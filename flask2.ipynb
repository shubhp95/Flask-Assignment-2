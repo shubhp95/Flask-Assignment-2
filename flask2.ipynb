{
 "cells": [
  {
   "cell_type": "code",
   "execution_count": null,
   "id": "84f9065b-1328-4324-af7f-e1c5598c16e4",
   "metadata": {},
   "outputs": [],
   "source": [
    "#Ans1:\n",
    "#GET Method:The GET method is used to request data from a specified resource or URL. It retrieves data without altering or affecting the resource.\n",
    "#POST Method:The POST method is used to submit data to be processed by a specified resource or URL. It often results in changes to the server's state or the creation of new resources."
   ]
  },
  {
   "cell_type": "code",
   "execution_count": null,
   "id": "121e3e6d-4c8a-428d-a48c-22e307d9446c",
   "metadata": {},
   "outputs": [],
   "source": [
    "#Ans2:In Flask, the request object is used to handle incoming HTTP requests. It provides access to various parts of the request data, allowing you to retrieve and work with information sent by the user\n"
   ]
  },
  {
   "cell_type": "code",
   "execution_count": null,
   "id": "4ad28ec1-cf5b-47be-9549-1fb3cf98a21f",
   "metadata": {},
   "outputs": [],
   "source": [
    "#Ans3:The redirect() function is used to redirect the client to a different URL. This is useful for various scenarios in web development where you need to navigate the user to a different page, either as part of the application's workflow or to handle certain actions.\n"
   ]
  },
  {
   "cell_type": "code",
   "execution_count": null,
   "id": "8cdea9ca-b971-40ef-9cd2-d4f8276525a8",
   "metadata": {},
   "outputs": [],
   "source": [
    "#Ans4:a. Templates are used to dynamically generate HTML pages by embedding data into HTML files. Templates allow you to separate the presentation layer from the application logic, making your web application more organized and maintainable.\n",
    "#     b.The render_template() function is used to render a template file with specific context data. It combines the HTML template with dynamic data and returns the generated HTML to the client."
   ]
  },
  {
   "cell_type": "code",
   "execution_count": null,
   "id": "818c3f53-d3b4-45df-9963-350e739e5bee",
   "metadata": {},
   "outputs": [],
   "source": [
    "#Ans5:\n",
    "from flask import Flask, jsonify, request\n",
    "app = Flask(__name__)\n",
    "@app.route('/')\n",
    "def home():\n",
    "    return 'Welcome to the Simple API!'\n",
    "@app.route('/api/greet', methods=['GET'])\n",
    "def greet():\n",
    "    name = request.args.get('name', 'Guest')\n",
    "    return jsonify({'message': f'Hello, {name}!'})\n",
    "@app.route('/api/user', methods=['POST'])\n",
    "def create_user():\n",
    "    data = request.json\n",
    "    return jsonify({'status': 'success', 'user': data}), 201\n",
    "if __name__ == '__main__':\n",
    "    app.run(debug=True)\n"
   ]
  },
  {
   "cell_type": "code",
   "execution_count": null,
   "id": "782793a6-51ee-419c-868c-d9fad5cf53f0",
   "metadata": {},
   "outputs": [],
   "source": []
  },
  {
   "cell_type": "code",
   "execution_count": null,
   "id": "61062a45-0951-478e-8605-8296e02786cf",
   "metadata": {},
   "outputs": [],
   "source": []
  }
 ],
 "metadata": {
  "kernelspec": {
   "display_name": "Python 3 (ipykernel)",
   "language": "python",
   "name": "python3"
  },
  "language_info": {
   "codemirror_mode": {
    "name": "ipython",
    "version": 3
   },
   "file_extension": ".py",
   "mimetype": "text/x-python",
   "name": "python",
   "nbconvert_exporter": "python",
   "pygments_lexer": "ipython3",
   "version": "3.12.4"
  }
 },
 "nbformat": 4,
 "nbformat_minor": 5
}
